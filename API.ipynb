{
 "cells": [
  {
   "cell_type": "code",
   "execution_count": 1,
   "metadata": {
    "scrolled": true
   },
   "outputs": [],
   "source": [
    "# Imports\n",
    "from bs4 import BeautifulSoup\n",
    "import json \n",
    "import ast\n",
    "import pandas as pd\n",
    "import numpy as np\n",
    "from scipy import spatial\n",
    "from sklearn.feature_extraction.text import TfidfVectorizer\n",
    "from sklearn.metrics.pairwise import linear_kernel\n",
    "from abc import ABCMeta, abstractmethod\n",
    "import tensorflow_hub as hub\n",
    "import tensorflow as tf\n",
    "import tensorflow_text\n",
    "from tqdm import tqdm\n",
    "import re,os,requests\n",
    "import yake\n",
    "from math import log\n",
    "from flask import Flask, jsonify\n",
    "from flask_restful import Resource, Api, reqparse\n",
    "from flask_cors import CORS\n",
    "\n",
    "# Load Encoder Model \n",
    "class TFEncoder(metaclass = ABCMeta):\n",
    "    \"\"\"Base encoder to be used for all encoders.\"\"\"\n",
    "    def __init__(self, model_path:str):\n",
    "        self.model = hub.load(model_path)\n",
    " \n",
    "    @abstractmethod\n",
    "    def encode(self, text:list):\n",
    "        \"\"\"Encodes text.\n",
    "        Text: should be a list of strings to encode\n",
    "        \"\"\"\n",
    " \n",
    "class USE(TFEncoder):\n",
    "    \"\"\"Universal sentence encoder\"\"\"\n",
    "    def __init__(self, model_path):\n",
    "        super().__init__(model_path)\n",
    " \n",
    "    def encode(self, text):\n",
    "        return self.model(text).numpy()\n",
    " \n",
    "class USEQA(TFEncoder):\n",
    "    \"\"\"Universal sentence encoder trained on Question Answer pairs\"\"\"\n",
    "    def __init__(self, model_path):\n",
    "        super().__init__(model_path)\n",
    " \n",
    "    def encode(self, text):\n",
    "        return self.model.signatures['question_encoder'](tf.constant(s))['outputs'].numpy()\n",
    " \n",
    "class BERT():\n",
    "    \"\"\"BERT models\"\"\"\n",
    "    def __init__(self, model_name, layers=\"-2\", pooling_operation=\"mean\"):\n",
    "        self.embeddings = BertEmbeddings(model_name, layers=layers, pooling_operation=pooling_operation)\n",
    " \n",
    "        self.document_embeddings = DocumentPoolEmbeddings([self.embeddings], fine_tune_mode='nonlinear')\n",
    " \n",
    "    def encode(self, text):\n",
    "        sentence = Sentence(text)\n",
    "        self.document_embeddings.embed(sentence)\n",
    "        return sentence.embedding.detach().numpy().reshape(1, -1)\n",
    " \n",
    "model_path = \"https://tfhub.dev/google/universal-sentence-encoder-multilingual-large/3\"\n",
    " \n",
    "encoder = USE(model_path)\n",
    "\n",
    "app = Flask(__name__)\n",
    "CORS(app)\n",
    "api = Api(app)"
   ]
  },
  {
   "cell_type": "code",
   "execution_count": 2,
   "metadata": {},
   "outputs": [],
   "source": [
    "df_SID_KB = pd.read_csv(\"SID_KB.csv\")\n",
    "df_KB_embedding = pd.read_csv(\"SID_Embedding.csv\")"
   ]
  },
  {
   "cell_type": "code",
   "execution_count": 3,
   "metadata": {},
   "outputs": [],
   "source": [
    "def search(test_keypoints):\n",
    "    test_keypoints = [test_keypoints] if isinstance(test_keypoints, str) else test_keypoints\n",
    "    from scipy import spatial\n",
    "    NUM_TO_RERANK = 10\n",
    "    \n",
    "    # Get Test Embedding \n",
    "    test_descriptors = []\n",
    "    for i,v in enumerate(tqdm(test_keypoints)):\n",
    "        try:\n",
    "            test_descriptors.append(encoder.encode([v]))\n",
    "        except:\n",
    "            print(\"problem in \", test_keypoints[i])\n",
    "    \n",
    "    test_descriptors = np.array(test_descriptors).reshape(len(test_keypoints),512)\n",
    "    test_keypoints = np.array(test_keypoints).reshape(len(test_keypoints),1)\n",
    "    \n",
    "    # define test identifiers and descriptors\n",
    "    test_ids, test_embeddings = test_keypoints, test_descriptors\n",
    "    \n",
    "    # define train identifiers and descriptors\n",
    "    train_ids_kb, train_embeddings_kb =  df_SID_KB['ArticleNumber'].values.reshape(len(df_SID_KB),1) , df_KB_embedding.values\n",
    "    #train_ids_case, train_embeddings_case =  df_SID_SFDC['CaseNumber'].values.reshape(len(df_SID_SFDC),1) , df__SFDC_embedding.values\n",
    "\n",
    "    for test_index in range(len(test_embeddings)):\n",
    "        distances_kb = spatial.distance.cdist(test_embeddings[np.newaxis, test_index, :], train_embeddings_kb,'cosine')[0]\n",
    "        partition_kb = np.argpartition(distances_kb, NUM_TO_RERANK)[:NUM_TO_RERANK]\n",
    "        nearest_kb = sorted([train_ids_kb[p] for p in partition_kb])\n",
    "        print(nearest_kb)\n",
    "        \n",
    "        \"\"\"\n",
    "        distances_case = spatial.distance.cdist(test_embeddings[np.newaxis, test_index, :], train_embeddings_case,'cosine')[0]\n",
    "        partition_case = np.argpartition(distances_case, NUM_TO_RERANK)[:NUM_TO_RERANK]\n",
    "        nearest_case = sorted([train_ids_case[p] for p in partition_case])\n",
    "        \"\"\"\n",
    "        \n",
    "    df_Results_KB = df_SID_KB[df_SID_KB['ArticleNumber'].isin(nearest_kb)]\n",
    "    #df_Results_Case = df_SID_SFDC[df_SID_SFDC['CaseNumber'].isin(nearest_case)]['CaseNumber','Subject']\n",
    "    print(df_Results_KB[['ArticleNumber', 'Title']].to_json(orient=\"records\"))\n",
    "    return df_Results_KB[['ArticleNumber', 'Title']].to_json(orient=\"records\")"
   ]
  },
  {
   "cell_type": "code",
   "execution_count": 4,
   "metadata": {},
   "outputs": [],
   "source": [
    "class Articles(Resource):\n",
    "        def get(self):\n",
    "            parser = reqparse.RequestParser()  # initialize\n",
    "            parser.add_argument('msg', required=True)  # add args\n",
    "            args = parser.parse_args()  # parse arguments to dictionary\n",
    "            response = app.response_class(\n",
    "                response=json.dumps(search(args['msg'])),\n",
    "                status=200,\n",
    "                mimetype='application/json'\n",
    "            )\n",
    "            return response  # return data and 200 OK code\n",
    "api.add_resource(Articles, '/getArticles')  # '/users' is our entry point"
   ]
  },
  {
   "cell_type": "code",
   "execution_count": null,
   "metadata": {},
   "outputs": [
    {
     "name": "stdout",
     "output_type": "stream",
     "text": [
      " * Serving Flask app \"__main__\" (lazy loading)\n",
      " * Environment: production\n",
      "   WARNING: This is a development server. Do not use it in a production deployment.\n",
      "   Use a production WSGI server instead.\n",
      " * Debug mode: off\n"
     ]
    },
    {
     "name": "stderr",
     "output_type": "stream",
     "text": [
      "INFO:werkzeug: * Running on http://127.0.0.1:80/ (Press CTRL+C to quit)\n",
      "100%|██████████| 1/1 [00:04<00:00,  4.68s/it]\n",
      "INFO:werkzeug:127.0.0.1 - - [02/Feb/2021 17:18:16] \"\u001b[37mGET /getArticles?msg=ki HTTP/1.1\u001b[0m\" 200 -\n"
     ]
    },
    {
     "name": "stdout",
     "output_type": "stream",
     "text": [
      "[array([17049], dtype=int64), array([18137], dtype=int64), array([20379], dtype=int64), array([24493], dtype=int64), array([25766], dtype=int64), array([30150], dtype=int64), array([30952], dtype=int64), array([33269], dtype=int64), array([35297], dtype=int64), array([36972], dtype=int64)]\n",
      "[{\"ArticleNumber\":24493,\"Title\":\"A custom query to show assigned or unassigned software tokens\"}]\n"
     ]
    },
    {
     "name": "stderr",
     "output_type": "stream",
     "text": [
      "INFO:werkzeug:127.0.0.1 - - [02/Feb/2021 17:19:13] \"\u001b[37mOPTIONS /getArticles?msg=server HTTP/1.1\u001b[0m\" 200 -\n",
      "100%|██████████| 1/1 [00:00<00:00, 25.00it/s]\n",
      "INFO:werkzeug:127.0.0.1 - - [02/Feb/2021 17:19:13] \"\u001b[37mGET /getArticles?msg=server HTTP/1.1\u001b[0m\" 200 -\n"
     ]
    },
    {
     "name": "stdout",
     "output_type": "stream",
     "text": [
      "[array([13474], dtype=int64), array([16446], dtype=int64), array([17401], dtype=int64), array([18524], dtype=int64), array([28060], dtype=int64), array([29654], dtype=int64), array([30659], dtype=int64), array([36059], dtype=int64), array([37589], dtype=int64), array([38196], dtype=int64)]\n",
      "[{\"ArticleNumber\":17401,\"Title\":\"RSA Authentication Manager 8.x shows replication status as \\\"Instance Offline\\\"\"},{\"ArticleNumber\":38196,\"Title\":\"RSA Replication Service fails to start on RSA Authentication Manager 8.x primary\"}]\n"
     ]
    },
    {
     "name": "stderr",
     "output_type": "stream",
     "text": [
      "INFO:werkzeug:127.0.0.1 - - [02/Feb/2021 17:20:39] \"\u001b[37mOPTIONS /getArticles?msg=server HTTP/1.1\u001b[0m\" 200 -\n",
      "100%|██████████| 1/1 [00:00<00:00, 21.74it/s]\n",
      "INFO:werkzeug:127.0.0.1 - - [02/Feb/2021 17:20:39] \"\u001b[37mGET /getArticles?msg=server HTTP/1.1\u001b[0m\" 200 -\n"
     ]
    },
    {
     "name": "stdout",
     "output_type": "stream",
     "text": [
      "[array([13474], dtype=int64), array([16446], dtype=int64), array([17401], dtype=int64), array([18524], dtype=int64), array([28060], dtype=int64), array([29654], dtype=int64), array([30659], dtype=int64), array([36059], dtype=int64), array([37589], dtype=int64), array([38196], dtype=int64)]\n",
      "[{\"ArticleNumber\":17401,\"Title\":\"RSA Authentication Manager 8.x shows replication status as \\\"Instance Offline\\\"\"},{\"ArticleNumber\":38196,\"Title\":\"RSA Replication Service fails to start on RSA Authentication Manager 8.x primary\"}]\n"
     ]
    },
    {
     "name": "stderr",
     "output_type": "stream",
     "text": [
      "INFO:werkzeug:127.0.0.1 - - [02/Feb/2021 17:20:45] \"\u001b[37mOPTIONS /getArticles?msg=server%20is%20bad HTTP/1.1\u001b[0m\" 200 -\n",
      "100%|██████████| 1/1 [00:00<00:00, 19.23it/s]\n",
      "INFO:werkzeug:127.0.0.1 - - [02/Feb/2021 17:20:45] \"\u001b[37mGET /getArticles?msg=server%20is%20bad HTTP/1.1\u001b[0m\" 200 -\n"
     ]
    },
    {
     "name": "stdout",
     "output_type": "stream",
     "text": [
      "[array([17401], dtype=int64), array([18524], dtype=int64), array([28060], dtype=int64), array([30237], dtype=int64), array([30659], dtype=int64), array([32456], dtype=int64), array([33442], dtype=int64), array([35701], dtype=int64), array([37012], dtype=int64), array([37920], dtype=int64)]\n",
      "[{\"ArticleNumber\":18524,\"Title\":\"SecurID Radius Server Partners\"},{\"ArticleNumber\":37920,\"Title\":\"NTP error in RSA SecurID: Crtical event notification NTP out of sync\"},{\"ArticleNumber\":30659,\"Title\":\"RSA Authentication Manager 8.x services do not start after activating a new console certificate\"}]\n"
     ]
    }
   ],
   "source": [
    "if __name__ == '__main__':\n",
    "    app.run(port=80)  # run our Flask app"
   ]
  },
  {
   "cell_type": "code",
   "execution_count": null,
   "metadata": {},
   "outputs": [],
   "source": []
  },
  {
   "cell_type": "code",
   "execution_count": null,
   "metadata": {},
   "outputs": [],
   "source": []
  },
  {
   "cell_type": "code",
   "execution_count": null,
   "metadata": {},
   "outputs": [],
   "source": []
  }
 ],
 "metadata": {
  "kernelspec": {
   "display_name": "envz",
   "language": "python",
   "name": "envz"
  },
  "language_info": {
   "codemirror_mode": {
    "name": "ipython",
    "version": 3
   },
   "file_extension": ".py",
   "mimetype": "text/x-python",
   "name": "python",
   "nbconvert_exporter": "python",
   "pygments_lexer": "ipython3",
   "version": "3.7.9"
  }
 },
 "nbformat": 4,
 "nbformat_minor": 4
}
